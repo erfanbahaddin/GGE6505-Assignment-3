{
  "nbformat": 4,
  "nbformat_minor": 0,
  "metadata": {
    "colab": {
      "provenance": [],
      "include_colab_link": true
    },
    "kernelspec": {
      "name": "python3",
      "display_name": "Python 3"
    },
    "language_info": {
      "name": "python"
    }
  },
  "cells": [
    {
      "cell_type": "markdown",
      "metadata": {
        "id": "view-in-github",
        "colab_type": "text"
      },
      "source": [
        "<a href=\"https://colab.research.google.com/github/erfanbahaddin/GGE6505-Assignment-3/blob/main/Assignment_3.ipynb\" target=\"_parent\"><img src=\"https://colab.research.google.com/assets/colab-badge.svg\" alt=\"Open In Colab\"/></a>"
      ]
    },
    {
      "cell_type": "code",
      "source": [
        "import requests\n",
        "\n",
        "response = requests.get(\"https://holidays.abstractapi.com/v1/?api_key=70029fe30fb6431d89ce8304ecb9ab0&country=US&year=2020&month=12&day=25\")\n",
        "print(response.status_code)\n",
        "print(response.content)"
      ],
      "metadata": {
        "colab": {
          "base_uri": "https://localhost:8080/"
        },
        "id": "D4mxFYOxdTP9",
        "outputId": "e8b39e7c-b071-46cb-9457-bdc523b92670"
      },
      "execution_count": null,
      "outputs": [
        {
          "output_type": "stream",
          "name": "stdout",
          "text": [
            "401\n",
            "b'{\"error\":{\"message\":\"Invalid API key provided.\",\"code\":\"unauthorized\",\"details\":null}}'\n"
          ]
        }
      ]
    },
    {
      "cell_type": "code",
      "source": [
        "import requests\n",
        "\n",
        "response = requests.get(\"https://timezone.abstractapi.com/v1/current_time/?api_key=6cf24410bae34f29939e18b54820ce99&location=Oxford,United Kingdom\")\n",
        "print(response.status_code)\n",
        "print(response.content)"
      ],
      "metadata": {
        "colab": {
          "base_uri": "https://localhost:8080/"
        },
        "id": "t5upd3l0iVYT",
        "outputId": "f9a9e2a7-499b-492f-e5de-2f0e44b9a9a9"
      },
      "execution_count": null,
      "outputs": [
        {
          "output_type": "stream",
          "name": "stdout",
          "text": [
            "200\n",
            "b'{\"datetime\":\"2023-02-22 19:11:16\",\"timezone_name\":\"Greenwich Mean Time\",\"timezone_location\":\"Europe/London\",\"timezone_abbreviation\":\"GMT\",\"gmt_offset\":0,\"is_dst\":false,\"requested_location\":\"Oxford,United Kingdom\",\"latitude\":51.7520131,\"longitude\":-1.2578499}'\n"
          ]
        }
      ]
    },
    {
      "cell_type": "code",
      "source": [
        "import requests\n",
        "\n",
        "response = requests.get(\"https://timezone.abstractapi.com/v1/current_time/?api_key=6cf24410bae34f29939e18b54820ce99&location=Fredericton,Canada\")\n",
        "print(response.status_code)\n",
        "print(response.content)"
      ],
      "metadata": {
        "colab": {
          "base_uri": "https://localhost:8080/"
        },
        "id": "HOu6TivKiaJs",
        "outputId": "7364a3dc-b804-424d-e2a7-4f6d63735e76"
      },
      "execution_count": null,
      "outputs": [
        {
          "output_type": "stream",
          "name": "stdout",
          "text": [
            "200\n",
            "b'{\"datetime\":\"2023-02-22 15:11:43\",\"timezone_name\":\"Atlantic Standard Time\",\"timezone_location\":\"America/Moncton\",\"timezone_abbreviation\":\"AST\",\"gmt_offset\":-4,\"is_dst\":false,\"requested_location\":\"Fredericton,Canada\",\"latitude\":45.94780155,\"longitude\":-66.65347069241668}'\n"
          ]
        }
      ]
    },
    {
      "cell_type": "code",
      "source": [
        "import requests\n",
        "\n",
        "response = requests.get(\"https://exchange-rates.abstractapi.com/v1/live/?api_key=a71d7011d14a43d4a6743bfc7c598a37&base=USD&target=CAD\")\n",
        "print(response.status_code)\n",
        "print(response.content)"
      ],
      "metadata": {
        "colab": {
          "base_uri": "https://localhost:8080/"
        },
        "id": "namdBcYRhim4",
        "outputId": "5ebc6362-e8f9-46eb-c08e-a66f2c18e1bc"
      },
      "execution_count": null,
      "outputs": [
        {
          "output_type": "stream",
          "name": "stdout",
          "text": [
            "200\n",
            "b'{\"base\":\"USD\",\"last_updated\":1676985300,\"exchange_rates\":{\"CAD\":1.353626}}'\n"
          ]
        }
      ]
    },
    {
      "cell_type": "code",
      "source": [
        "response = requests.get(\"https://exchange-rates.abstractapi.com/v1/live/?api_key=a71d7011d14a43d4a6743bfc7c598a37&base=USD&target=EUR\")\n",
        "print(response.status_code)\n",
        "print(response.content)"
      ],
      "metadata": {
        "colab": {
          "base_uri": "https://localhost:8080/"
        },
        "id": "lAeVIXQnh1tB",
        "outputId": "c234b681-6111-4df6-c9ec-311b8f524fbd"
      },
      "execution_count": null,
      "outputs": [
        {
          "output_type": "stream",
          "name": "stdout",
          "text": [
            "200\n",
            "b'{\"base\":\"USD\",\"last_updated\":1676985300,\"exchange_rates\":{\"EUR\":0.939496}}'\n"
          ]
        }
      ]
    },
    {
      "cell_type": "code",
      "source": [
        "import requests\n",
        "\n",
        "response = requests.get(\"https://holidays.abstractapi.com/v1/?api_key=70029fe30fb6431d89ce8304ecb9ab0f&country=SG&year=2021&month=01&day=01\")\n",
        "print(response.status_code)\n",
        "con=[response.content]\n",
        "for i in con:\n",
        "  print(i )\n",
        "  print(\"\\n\")\n",
        "\n"
      ],
      "metadata": {
        "colab": {
          "base_uri": "https://localhost:8080/"
        },
        "id": "dh0XbdaadmEE",
        "outputId": "a2dd12e3-ddcb-47d6-bc49-0740bb8f3c0a"
      },
      "execution_count": null,
      "outputs": [
        {
          "output_type": "stream",
          "name": "stdout",
          "text": [
            "200\n",
            "b'[{\"name\":\"New Year\\'s Day\",\"name_local\":\"\",\"language\":\"\",\"description\":\"\",\"country\":\"SG\",\"location\":\"Singapore\",\"type\":\"National\",\"date\":\"01/01/2021\",\"date_year\":\"2021\",\"date_month\":\"01\",\"date_day\":\"01\",\"week_day\":\"Friday\"}]'\n",
            "\n",
            "\n"
          ]
        }
      ]
    },
    {
      "cell_type": "code",
      "source": [
        "from IPython.core.display import json\n",
        "import requests\n",
        "\n",
        "response = requests.get(\"https://holidays.abstractapi.com/v1/?api_key=70029fe30fb6431d89ce8304ecb9ab0f&country=SG&year=2021&month=01&day=01\")\n",
        "txt=response.text\n",
        "json_object=json.dumps(txt,indent=4)\n",
        "with open(\"f2.json\",\"w\")as outfile:\n",
        "  outfile.write(json_object)"
      ],
      "metadata": {
        "id": "NbhaZSmdOLWN"
      },
      "execution_count": null,
      "outputs": []
    },
    {
      "cell_type": "code",
      "source": [
        "# !pip uninstall websocket\n",
        "# !pip uninstall websocket-client\n",
        "!pip install websocket-client"
      ],
      "metadata": {
        "id": "_sUODJ4_pF34",
        "colab": {
          "base_uri": "https://localhost:8080/"
        },
        "outputId": "38155472-246b-438b-fdeb-bb3af28ac8e8"
      },
      "execution_count": null,
      "outputs": [
        {
          "output_type": "stream",
          "name": "stdout",
          "text": [
            "Looking in indexes: https://pypi.org/simple, https://us-python.pkg.dev/colab-wheels/public/simple/\n",
            "Collecting websocket-client\n",
            "  Using cached websocket_client-1.5.1-py3-none-any.whl (55 kB)\n",
            "Installing collected packages: websocket-client\n",
            "Successfully installed websocket-client-1.5.1\n"
          ]
        }
      ]
    },
    {
      "cell_type": "code",
      "source": [
        "import websocket, json\n",
        "from IPython.core.display import json\n",
        "cc = 'btcusd'\n",
        "interval = '1m'\n",
        "socket = f'wss://stream.binance.com:9443/ws/{cc}t@kline_{interval}'\n",
        "data1 = []\n",
        "\n",
        "def on_message(ws, message):\n",
        "  print(message)\n",
        "  data1.append(message)\n",
        "\n",
        "def on_close(ws):\n",
        "  print(\"Connection Closed\")\n",
        "\n",
        "ws = websocket.WebSocketApp(socket, on_message = on_message, on_close = on_close)\n",
        "ws.run_forever()\n",
        "\n",
        "json_object = json.dumps(data1,indent=4)\n",
        "with open(\"f3.json\",\"w\")as outfile:\n",
        "  outfile.write(json_object)"
      ],
      "metadata": {
        "id": "4rvoDVkrA3lX"
      },
      "execution_count": null,
      "outputs": []
    }
  ]
}